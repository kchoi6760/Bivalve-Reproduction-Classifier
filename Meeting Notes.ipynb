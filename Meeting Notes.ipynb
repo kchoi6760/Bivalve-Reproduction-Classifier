{
 "cells": [
  {
   "cell_type": "markdown",
   "id": "bf3a98fa-ddac-4ea5-a14d-ff1eedf08717",
   "metadata": {},
   "source": [
    "## Meeting Notes 01/26\n",
    "- Start regression middle of the year since neighboring months are next to each other(12 and 1 are next to each other). Look into circular stats\n",
    "- Start of reproduction cyclical data\n",
    "    - CRAN (R Package)\n",
    "    - ARIMA (Temporal Package)\n",
    "    - Bayesian Inference (group and bayes)"
   ]
  },
  {
   "cell_type": "markdown",
   "id": "b0b4718c-02a7-4140-8512-fac189861800",
   "metadata": {},
   "source": [
    "### Goals for next meeting:\n",
    "- Finish filtering through the data and creating big datasets\n",
    "- Start Linear Regression on inidividual values\n",
    "    - EDA on data first"
   ]
  },
  {
   "cell_type": "code",
   "execution_count": null,
   "id": "04a01a3a-fbeb-4f40-88ee-a3a08127425c",
   "metadata": {},
   "outputs": [],
   "source": []
  }
 ],
 "metadata": {
  "kernelspec": {
   "display_name": "Python 3 (ipykernel)",
   "language": "python",
   "name": "python3"
  },
  "language_info": {
   "codemirror_mode": {
    "name": "ipython",
    "version": 3
   },
   "file_extension": ".py",
   "mimetype": "text/x-python",
   "name": "python",
   "nbconvert_exporter": "python",
   "pygments_lexer": "ipython3",
   "version": "3.11.5"
  }
 },
 "nbformat": 4,
 "nbformat_minor": 5
}
